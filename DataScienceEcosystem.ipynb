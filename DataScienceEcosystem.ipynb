{
 "cells": [
  {
   "cell_type": "markdown",
   "id": "1c015b36-a1ee-4def-b8fd-becac278e6d8",
   "metadata": {},
   "source": [
    "# Data Science Tools and Ecosystem"
   ]
  },
  {
   "cell_type": "markdown",
   "id": "d5615014-d41f-4ae9-bf8c-fd54c5b63da0",
   "metadata": {},
   "source": [
    "In this Notebook, Data Science Tools and Ecosystem are summarized"
   ]
  },
  {
   "cell_type": "markdown",
   "id": "1855ab5c-9e4b-463e-a17c-ad7efc43c64d",
   "metadata": {},
   "source": [
    "__Objectives:__\n",
    "- Various Languages and Tools used for Data Science\n",
    "- Various Libraries used in Data Science\n",
    "- Use of Github and Git"
   ]
  },
  {
   "cell_type": "markdown",
   "id": "69a7562e-c0ef-426f-bd6d-68d8dbdb0692",
   "metadata": {},
   "source": [
    "## Author\n",
    "Ibrahim Koicha"
   ]
  },
  {
   "cell_type": "markdown",
   "id": "9933469f-52a2-497f-958e-912dfa4264b4",
   "metadata": {},
   "source": [
    "Some of the popular language that Data Scientists used are:\n",
    "1. Python\n",
    "2. R\n",
    "3. Scala"
   ]
  },
  {
   "cell_type": "markdown",
   "id": "bf093a67-b489-4f6a-878d-ccf18eda8b8f",
   "metadata": {},
   "source": [
    "Some of the Commonly used libraries used by Data Science include:\n",
    "1. NumPy\n",
    "2. Pandas\n",
    "3. TensorFlow\n",
    "4. Keras\n",
    "5. Matplotlib\n",
    "6. Scikit-Learn"
   ]
  },
  {
   "cell_type": "markdown",
   "id": "05460cde-50fe-4405-a6cd-4a50236202ac",
   "metadata": {},
   "source": [
    "| Data Science Tools |\n",
    "| --- |\n",
    "| RStudio |\n",
    "| Apache Spark |\n",
    "| Jupyter Notebook |"
   ]
  },
  {
   "cell_type": "markdown",
   "id": "86d2e807-fece-4998-bac1-5b62c408789a",
   "metadata": {},
   "source": [
    "### Below are a few examples of evaluating algorithm expressions in Python"
   ]
  },
  {
   "cell_type": "code",
   "execution_count": 1,
   "id": "79a128ea-5914-4b3c-92ca-5ff081e500d1",
   "metadata": {
    "tags": []
   },
   "outputs": [
    {
     "data": {
      "text/plain": [
       "17"
      ]
     },
     "execution_count": 1,
     "metadata": {},
     "output_type": "execute_result"
    }
   ],
   "source": [
    "# This is a simple Arithmetic Operation to multiply then add integers\n",
    "(3*4) + 5"
   ]
  },
  {
   "cell_type": "code",
   "execution_count": 7,
   "id": "61d56611-388c-4976-98e7-b997867cf51f",
   "metadata": {
    "tags": []
   },
   "outputs": [
    {
     "data": {
      "text/plain": [
       "3"
      ]
     },
     "execution_count": 7,
     "metadata": {},
     "output_type": "execute_result"
    }
   ],
   "source": [
    "# This will convert 200 Minutes to Hours by dividing by 60\n",
    "200 // 60"
   ]
  }
 ],
 "metadata": {
  "kernelspec": {
   "display_name": "Python",
   "language": "python",
   "name": "conda-env-python-py"
  },
  "language_info": {
   "codemirror_mode": {
    "name": "ipython",
    "version": 3
   },
   "file_extension": ".py",
   "mimetype": "text/x-python",
   "name": "python",
   "nbconvert_exporter": "python",
   "pygments_lexer": "ipython3",
   "version": "3.7.12"
  }
 },
 "nbformat": 4,
 "nbformat_minor": 5
}
